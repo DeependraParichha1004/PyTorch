{
 "cells": [
  {
   "cell_type": "code",
   "execution_count": 1,
   "id": "5286607e-0396-4390-b27a-75c71d513493",
   "metadata": {},
   "outputs": [],
   "source": [
    "import torch\n",
    "from torch import nn\n",
    "from torch.utils.data import DataLoader\n",
    "from torchvision import datasets\n",
    "from torchvision.transforms import ToTensor"
   ]
  },
  {
   "cell_type": "code",
   "execution_count": 2,
   "id": "4b0276ff-38e0-47c0-b4e1-00a19836defe",
   "metadata": {},
   "outputs": [],
   "source": [
    "train_dataset=datasets.FashionMNIST(\n",
    "    './data',train=True,download=False,transform=ToTensor()\n",
    ")\n",
    "test_dataset=datasets.FashionMNIST(\n",
    "    './data',train=False,download=False,transform=ToTensor()\n",
    ")"
   ]
  },
  {
   "cell_type": "code",
   "execution_count": 3,
   "id": "46a4fb4f-ac61-45fd-9d0d-3cddef99d119",
   "metadata": {},
   "outputs": [],
   "source": [
    "batch_size=64\n",
    "train_loader=DataLoader(train_dataset,batch_size=batch_size,shuffle=True)\n",
    "test_loader=DataLoader(test_dataset,batch_size=batch_size,shuffle=False)"
   ]
  },
  {
   "cell_type": "code",
   "execution_count": 4,
   "id": "60c1052f-17c7-4adf-9c45-389af11496b8",
   "metadata": {},
   "outputs": [
    {
     "name": "stdout",
     "output_type": "stream",
     "text": [
      "Shape of X [N, C, H, W]: torch.Size([64, 1, 28, 28])\n",
      "Shape of y: torch.Size([64]) torch.int64\n"
     ]
    }
   ],
   "source": [
    "for X, y in train_loader:\n",
    "    print(f\"Shape of X [N, C, H, W]: {X.shape}\")\n",
    "    print(f\"Shape of y: {y.shape} {y.dtype}\")\n",
    "    break"
   ]
  },
  {
   "cell_type": "code",
   "execution_count": 5,
   "id": "a2c021ed-09bf-4e38-bc3c-77b91c1afbc5",
   "metadata": {},
   "outputs": [
    {
     "data": {
      "text/plain": [
       "[1, 4, 3, 16]"
      ]
     },
     "execution_count": 5,
     "metadata": {},
     "output_type": "execute_result"
    }
   ],
   "source": [
    "x=[1,2,3,4]\n",
    "ans=[i**2 if i%2==0 else i for i in x]\n",
    "ans"
   ]
  },
  {
   "cell_type": "code",
   "execution_count": 6,
   "id": "2c5f84eb-77f9-4743-9288-1b201c1a9869",
   "metadata": {},
   "outputs": [
    {
     "name": "stdout",
     "output_type": "stream",
     "text": [
      "Using cpu device\n"
     ]
    }
   ],
   "source": [
    "device = (\n",
    "    \"cuda\"\n",
    "    if torch.cuda.is_available()\n",
    "    else \"mps\"\n",
    "    if torch.backends.mps.is_available()\n",
    "    else \"cpu\"\n",
    ")\n",
    "\n",
    "print(f\"Using {device} device\")"
   ]
  },
  {
   "cell_type": "code",
   "execution_count": 7,
   "id": "26596c11-ff19-4f85-864a-e84760d80012",
   "metadata": {},
   "outputs": [],
   "source": [
    "class Model(nn.Module):\n",
    "    def __init__(self):\n",
    "        super().__init__()\n",
    "        self.flatten=nn.Flatten()\n",
    "        self.linear_stack=nn.Sequential(\n",
    "            nn.Linear(28*28,512),\n",
    "            nn.ReLU(),\n",
    "            nn.Linear(512,512),\n",
    "            nn.ReLU(),\n",
    "            nn.Linear(512,10)\n",
    "        )\n",
    "    def forward(self,x):\n",
    "        x=self.flatten(x)#->[64,28*28]\n",
    "        x=self.linear_stack(x)#->[64,10]\n",
    "        return x"
   ]
  },
  {
   "cell_type": "code",
   "execution_count": 8,
   "id": "b470a8b7-51a2-4a22-93ef-3b227dd3800b",
   "metadata": {},
   "outputs": [
    {
     "name": "stdout",
     "output_type": "stream",
     "text": [
      "Model(\n",
      "  (flatten): Flatten(start_dim=1, end_dim=-1)\n",
      "  (linear_stack): Sequential(\n",
      "    (0): Linear(in_features=784, out_features=512, bias=True)\n",
      "    (1): ReLU()\n",
      "    (2): Linear(in_features=512, out_features=512, bias=True)\n",
      "    (3): ReLU()\n",
      "    (4): Linear(in_features=512, out_features=10, bias=True)\n",
      "  )\n",
      ")\n"
     ]
    }
   ],
   "source": [
    "nn_model = Model().to(device)\n",
    "print(nn_model)\n"
   ]
  },
  {
   "cell_type": "code",
   "execution_count": 9,
   "id": "479cd875-51ef-458d-9fd8-9c9ac86f3a31",
   "metadata": {},
   "outputs": [
    {
     "data": {
      "text/plain": [
       "<bound method Module.parameters of Model(\n",
       "  (flatten): Flatten(start_dim=1, end_dim=-1)\n",
       "  (linear_stack): Sequential(\n",
       "    (0): Linear(in_features=784, out_features=512, bias=True)\n",
       "    (1): ReLU()\n",
       "    (2): Linear(in_features=512, out_features=512, bias=True)\n",
       "    (3): ReLU()\n",
       "    (4): Linear(in_features=512, out_features=10, bias=True)\n",
       "  )\n",
       ")>"
      ]
     },
     "execution_count": 9,
     "metadata": {},
     "output_type": "execute_result"
    }
   ],
   "source": [
    "nn_model.parameters"
   ]
  },
  {
   "cell_type": "code",
   "execution_count": 10,
   "id": "e8cecf2c-0aeb-4285-94dd-d6d5117e40a1",
   "metadata": {},
   "outputs": [],
   "source": [
    "criterion=nn.CrossEntropyLoss()\n",
    "optimizer=torch.optim.SGD(nn_model.parameters(),lr=0.003)"
   ]
  },
  {
   "cell_type": "code",
   "execution_count": 11,
   "id": "0bad31f6-39b3-46e3-928e-fda7072c0257",
   "metadata": {},
   "outputs": [
    {
     "name": "stdout",
     "output_type": "stream",
     "text": [
      "0 64 64\n",
      "100 6464 64\n",
      "200 12864 64\n",
      "300 19264 64\n",
      "400 25664 64\n",
      "500 32064 64\n",
      "600 38464 64\n",
      "700 44864 64\n",
      "800 51264 64\n",
      "900 57664 64\n"
     ]
    }
   ],
   "source": [
    "for batch,(data,target) in enumerate(train_loader):\n",
    "    X, y = data.to(device), target.to(device)\n",
    "    if batch % 100 == 0:\n",
    "        print(batch,(batch + 1) * len(X),len(X))"
   ]
  },
  {
   "cell_type": "code",
   "execution_count": 12,
   "id": "d9a9ad56-c3aa-40d9-9a23-e1c02f3a4a33",
   "metadata": {},
   "outputs": [],
   "source": [
    "def training_loop(model,train_loader):\n",
    "    size=len(train_loader.dataset)\n",
    "    model.train()\n",
    "    running_loss=0\n",
    "    for batch,(data,target) in enumerate(train_loader):\n",
    "        X, y = data.to(device), target.to(device)\n",
    "        optimizer.zero_grad()\n",
    "        output=model(data)\n",
    "        loss=criterion(output,y)\n",
    "        running_loss=loss\n",
    "        \n",
    "        loss.backward()\n",
    "        optimizer.step()\n",
    "\n",
    "        if batch % 100 == 0:\n",
    "            loss = loss.item()\n",
    "            running_loss+=loss\n",
    "            print(f\"loss: {running_loss/100:>7f}\")"
   ]
  },
  {
   "cell_type": "code",
   "execution_count": 13,
   "id": "7f10d236-2d5c-4901-b428-ec4670a4c526",
   "metadata": {},
   "outputs": [],
   "source": [
    "def evaluation(model,test_loader):\n",
    "    model.eval()\n",
    "    num_batches=len(test_loader)\n",
    "    size=len(test_loader.dataset)\n",
    "    test_loss, correct = 0, 0\n",
    "    with torch.no_grad():\n",
    "        for data,tar in test_loader:\n",
    "            img,tar=data.to(device),tar.to(device)\n",
    "            output=nn_model(img)\n",
    "\n",
    "            correct+=(output.argmax(1)==tar).type(torch.float).sum().item()\n",
    "            test_loss+=criterion(output,tar).item()\n",
    "\n",
    "    correct/=size\n",
    "    test_loss/=num_batches\n",
    "    print(f\"Test Error: \\n Accuracy: {(100*correct):>0.1f}%, Avg loss: {test_loss:>8f} \\n\")\n"
   ]
  },
  {
   "cell_type": "code",
   "execution_count": 14,
   "id": "016e94a5-096f-484f-87e9-261e1f8c8729",
   "metadata": {},
   "outputs": [
    {
     "name": "stdout",
     "output_type": "stream",
     "text": [
      "Epoch 1\n",
      "-------------------------------\n",
      "loss: 0.046302\n",
      "loss: 0.045263\n",
      "loss: 0.044385\n",
      "loss: 0.043640\n",
      "loss: 0.042709\n",
      "loss: 0.041282\n",
      "loss: 0.039390\n",
      "loss: 0.036677\n",
      "loss: 0.036076\n",
      "loss: 0.032331\n",
      "Test Error: \n",
      " Accuracy: 59.4%, Avg loss: 1.579214 \n",
      "\n",
      "Epoch 2\n",
      "-------------------------------\n",
      "loss: 0.030645\n",
      "loss: 0.029764\n",
      "loss: 0.029112\n",
      "loss: 0.026650\n",
      "loss: 0.024622\n",
      "loss: 0.024720\n",
      "loss: 0.024380\n",
      "loss: 0.022289\n",
      "loss: 0.021303\n",
      "loss: 0.021664\n",
      "Test Error: \n",
      " Accuracy: 66.2%, Avg loss: 1.001348 \n",
      "\n",
      "Epoch 3\n",
      "-------------------------------\n",
      "loss: 0.018482\n",
      "loss: 0.016219\n",
      "loss: 0.019030\n",
      "loss: 0.016446\n",
      "loss: 0.020312\n",
      "loss: 0.018464\n",
      "loss: 0.014621\n",
      "loss: 0.016406\n",
      "loss: 0.015059\n",
      "loss: 0.017541\n",
      "Test Error: \n",
      " Accuracy: 68.3%, Avg loss: 0.828362 \n",
      "\n",
      "Epoch 4\n",
      "-------------------------------\n",
      "loss: 0.017061\n",
      "loss: 0.015882\n",
      "loss: 0.014189\n",
      "loss: 0.016206\n",
      "loss: 0.016012\n",
      "loss: 0.014179\n",
      "loss: 0.017628\n",
      "loss: 0.014901\n",
      "loss: 0.013993\n",
      "loss: 0.014891\n",
      "Test Error: \n",
      " Accuracy: 73.2%, Avg loss: 0.743117 \n",
      "\n",
      "Epoch 5\n",
      "-------------------------------\n",
      "loss: 0.017488\n",
      "loss: 0.012018\n",
      "loss: 0.014209\n",
      "loss: 0.013682\n",
      "loss: 0.015173\n",
      "loss: 0.010463\n",
      "loss: 0.013315\n",
      "loss: 0.013380\n",
      "loss: 0.013048\n",
      "loss: 0.014860\n",
      "Test Error: \n",
      " Accuracy: 75.1%, Avg loss: 0.696212 \n",
      "\n",
      "Done!\n"
     ]
    }
   ],
   "source": [
    "epochs = 5\n",
    "for t in range(epochs):\n",
    "    print(f\"Epoch {t+1}\\n-------------------------------\")\n",
    "    training_loop(nn_model,train_loader)\n",
    "    evaluation(nn_model,test_loader)\n",
    "print(\"Done!\")"
   ]
  },
  {
   "cell_type": "code",
   "execution_count": 17,
   "id": "fa22b8ca-5272-4116-a111-f955ef056fb5",
   "metadata": {},
   "outputs": [
    {
     "name": "stdout",
     "output_type": "stream",
     "text": [
      "Saved PyTorch Model State to basic_model.pth\n"
     ]
    }
   ],
   "source": [
    "torch.save(nn_model.state_dict(),\"basic_model.pth\")\n",
    "print(\"Saved PyTorch Model State to basic_model.pth\")"
   ]
  },
  {
   "cell_type": "code",
   "execution_count": 19,
   "id": "876fc478-dafb-4983-a10b-400ed2e52eae",
   "metadata": {},
   "outputs": [
    {
     "data": {
      "text/plain": [
       "<All keys matched successfully>"
      ]
     },
     "execution_count": 19,
     "metadata": {},
     "output_type": "execute_result"
    }
   ],
   "source": [
    "nn_model_new=Model().to(device)\n",
    "nn_model_new.load_state_dict(torch.load(\"basic_model.pth\"))"
   ]
  },
  {
   "cell_type": "code",
   "execution_count": 20,
   "id": "8636fe7c-e451-40f0-88d6-518d15df4e7e",
   "metadata": {},
   "outputs": [],
   "source": [
    "classes = [\n",
    "    \"T-shirt/top\",\n",
    "    \"Trouser\",\n",
    "    \"Pullover\",\n",
    "    \"Dress\",\n",
    "    \"Coat\",\n",
    "    \"Sandal\",\n",
    "    \"Shirt\",\n",
    "    \"Sneaker\",\n",
    "    \"Bag\",\n",
    "    \"Ankle boot\",\n",
    "]\n"
   ]
  },
  {
   "cell_type": "code",
   "execution_count": 23,
   "id": "745d0d82-073e-4468-a18d-06f5d7a7806e",
   "metadata": {},
   "outputs": [
    {
     "data": {
      "text/plain": [
       "torch.Size([1, 28, 28])"
      ]
     },
     "execution_count": 23,
     "metadata": {},
     "output_type": "execute_result"
    }
   ],
   "source": [
    "test_dataset[0][0].shape,test_dataset[0][1].shape"
   ]
  },
  {
   "cell_type": "code",
   "execution_count": null,
   "id": "708281eb-1851-4ece-a107-aaefab33ce2c",
   "metadata": {},
   "outputs": [],
   "source": [
    "x_new,y_new=test_loader[0][0],test_dataset[0][1]"
   ]
  },
  {
   "cell_type": "code",
   "execution_count": 25,
   "id": "5b3f3f8f-bb18-4fe1-a76b-1e62fdcefbbf",
   "metadata": {},
   "outputs": [
    {
     "name": "stdout",
     "output_type": "stream",
     "text": [
      "Predicted: \"Ankle boot\", Actual: \"Ankle boot\"\n"
     ]
    }
   ],
   "source": [
    "nn_model_new.eval()\n",
    "x, y = test_dataset[0][0], test_dataset[0][1]\n",
    "with torch.no_grad():\n",
    "    x = x.to(device)\n",
    "    pred = nn_model_new(x)\n",
    "    predicted, actual = classes[pred[0].argmax(0)], classes[y]\n",
    "    print(f'Predicted: \"{predicted}\", Actual: \"{actual}\"')"
   ]
  },
  {
   "cell_type": "code",
   "execution_count": null,
   "id": "a66363a1-8a98-47ca-8496-f1b9e6793bea",
   "metadata": {},
   "outputs": [],
   "source": []
  }
 ],
 "metadata": {
  "kernelspec": {
   "display_name": "torchenv",
   "language": "python",
   "name": "torchenv"
  },
  "language_info": {
   "codemirror_mode": {
    "name": "ipython",
    "version": 3
   },
   "file_extension": ".py",
   "mimetype": "text/x-python",
   "name": "python",
   "nbconvert_exporter": "python",
   "pygments_lexer": "ipython3",
   "version": "3.8.0"
  }
 },
 "nbformat": 4,
 "nbformat_minor": 5
}
